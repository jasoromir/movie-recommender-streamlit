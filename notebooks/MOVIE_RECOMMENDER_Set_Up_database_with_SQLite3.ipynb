{
  "nbformat": 4,
  "nbformat_minor": 0,
  "metadata": {
    "colab": {
      "name": "MOVIE-RECOMMENDER: Set Up database with SQLite3.ipynb",
      "provenance": []
    },
    "kernelspec": {
      "name": "python3",
      "display_name": "Python 3"
    },
    "language_info": {
      "name": "python"
    }
  },
  "cells": [
    {
      "cell_type": "markdown",
      "metadata": {
        "id": "4gNYGOPyHOWQ"
      },
      "source": [
        "# MOVIE-RECOMMENDER: Set Up database with SQLite3\n",
        "\n",
        "This is the pipeline description of the database schema used for our web app.  \n",
        "As a first step, we will be running the server locally. For that reason, sqlite3 allows us to get a fast start to begin testing the system, and in the future we can adapt our database to an online platform."
      ]
    },
    {
      "cell_type": "markdown",
      "metadata": {
        "id": "1fOFcT7ALO-z"
      },
      "source": [
        "## Necessary imports"
      ]
    },
    {
      "cell_type": "code",
      "metadata": {
        "id": "vFPYCBMLLNzo"
      },
      "source": [
        "# Imports\n",
        "import os\n",
        "import sqlite3\n",
        "import requests\n",
        "from bs4 import BeautifulSoup\n",
        "from ast import literal_eval\n",
        "import numpy as np"
      ],
      "execution_count": null,
      "outputs": []
    },
    {
      "cell_type": "markdown",
      "metadata": {
        "id": "LAAk8iSNJp_e"
      },
      "source": [
        "## Creating the DataBase"
      ]
    },
    {
      "cell_type": "markdown",
      "metadata": {
        "id": "uAcq16RZKLu9"
      },
      "source": [
        "This code corresponds to the 'create_db.py' script.  \n",
        "Necessary variables from the 'config.py' file are also included for simplicity"
      ]
    },
    {
      "cell_type": "code",
      "metadata": {
        "id": "CyGTWXZeHNf1"
      },
      "source": [
        "# Set our configuration parameters\n",
        "current_dir = os.getcwd()\n",
        "DB_FILE = f'{current_dir}/movies_db.db'\n",
        "\n",
        "MOVIES_PER_ROW = 5\n",
        "DATA_PATH = f\"{current_dir}/data/\"\n",
        "MOVIE_DB_URL = \"https://www.themoviedb.org/\"\n",
        "NO_IMAGE = \"https://upload.wikimedia.org/wikipedia/commons/thumb/3/33/Image-missing.svg/480px-Image-missing.svg.png\""
      ],
      "execution_count": null,
      "outputs": []
    },
    {
      "cell_type": "code",
      "metadata": {
        "id": "bAwRFeG_Hvu-"
      },
      "source": [
        "# OPEN // CREATE database\n",
        "connection = sqlite3.connect(DB_FILE)\n",
        "cursor = connection.cursor()"
      ],
      "execution_count": null,
      "outputs": []
    },
    {
      "cell_type": "code",
      "metadata": {
        "id": "U7jWxfZsICOm"
      },
      "source": [
        "# Table for MOVIES\n",
        "cursor.execute(\"\"\"\n",
        "\tCREATE TABLE IF NOT EXISTS movies(\n",
        "\t\tid INTEGER PRIMARY KEY,\n",
        "\t\tmovieDB_id INTEGER NOT NULL UNIQUE,\n",
        "\t\ttitle TEXT NOT NULL UNIQUE,\n",
        "\t\tduration NOT NULL,\n",
        "\t\tvote_counts INTEGER NOT NULL,\n",
        "\t\tvote_average NOT NULL,\n",
        "\t\trelease_date NOT NULL,\n",
        "\t\tposter_path,\n",
        "\t\tpopularity NOT NULL,\n",
        "\t\tdirector NOT NULL\n",
        "\t\t)\n",
        "\t\"\"\")"
      ],
      "execution_count": null,
      "outputs": []
    },
    {
      "cell_type": "code",
      "metadata": {
        "id": "HIWY4KV2JPtX"
      },
      "source": [
        "# Table for ACTORS\n",
        "cursor.execute(\"\"\"\n",
        "\tCREATE TABLE IF NOT EXISTS actors(\n",
        "\t\tid INTEGER PRIMARY KEY,\n",
        "\t\tname NOT NULL UNIQUE\n",
        "\t\t)\n",
        "\t\"\"\")"
      ],
      "execution_count": null,
      "outputs": []
    },
    {
      "cell_type": "code",
      "metadata": {
        "id": "D6puUXKbJWRo"
      },
      "source": [
        "# Table for GENRES\n",
        "cursor.execute(\"\"\"\n",
        "\tCREATE TABLE IF NOT EXISTS genres(\n",
        "\t\tid INTEGER PRIMARY KEY,\n",
        "\t\tname NOT NULL UNIQUE\n",
        "\t\t)\n",
        "\t\"\"\")"
      ],
      "execution_count": null,
      "outputs": []
    },
    {
      "cell_type": "code",
      "metadata": {
        "id": "HegMSbV3JR7t"
      },
      "source": [
        "# Table for KEYWORDS\n",
        "cursor.execute(\"\"\"\n",
        "\tCREATE TABLE IF NOT EXISTS keywords(\n",
        "\t\tid INTEGER PRIMARY KEY,\n",
        "\t\tname NOT NULL UNIQUE\n",
        "\t\t)\n",
        "\t\"\"\")"
      ],
      "execution_count": null,
      "outputs": []
    },
    {
      "cell_type": "code",
      "metadata": {
        "id": "08WVNcVtJWTy"
      },
      "source": [
        "# Relational table MOVIE-GENRE\n",
        "cursor.execute(\"\"\"\n",
        "\tCREATE TABLE IF NOT EXISTS movie_genres(\n",
        "\t\tid INTEGER PRIMARY KEY,\n",
        "\t\tmovie_id INTEGER NOT NULL,\n",
        "\t\tgenre_id INTEGER NOT NULL,\n",
        "\t\tFOREIGN KEY (movie_id) REFERENCES movies (id)\n",
        "\t\tFOREIGN KEY (genre_id) REFERENCES genres (id)\n",
        "\t\t)\n",
        "\t\"\"\")\n"
      ],
      "execution_count": null,
      "outputs": []
    },
    {
      "cell_type": "code",
      "metadata": {
        "id": "n_qvQ0LTJRxc"
      },
      "source": [
        "# Relational table MOVIE-ACTOR\n",
        "cursor.execute(\"\"\"\n",
        "\tCREATE TABLE IF NOT EXISTS movie_actors(\n",
        "\t\tid INTEGER PRIMARY KEY,\n",
        "\t\tmovie_id INTEGER NOT NULL,\n",
        "\t\tactor_id INTEGER NOT NULL,\n",
        "\t\tFOREIGN KEY (movie_id) REFERENCES movies (id)\n",
        "\t\tFOREIGN KEY (actor_id) REFERENCES actors (id)\n",
        "\t\t)\n",
        "\t\"\"\")"
      ],
      "execution_count": null,
      "outputs": []
    },
    {
      "cell_type": "code",
      "metadata": {
        "id": "xSt3g3cVJR--"
      },
      "source": [
        "# Relational table MOVIE-KEYWORD\n",
        "cursor.execute(\"\"\"\n",
        "\tCREATE TABLE IF NOT EXISTS movie_keywords(\n",
        "\t\tid INTEGER PRIMARY KEY,\n",
        "\t\tmovie_id INTEGER NOT NULL,\n",
        "\t\tkeyword_id INTEGER NOT NULL,\n",
        "\t\tFOREIGN KEY (movie_id) REFERENCES movies (id)\n",
        "\t\tFOREIGN KEY (keyword_id) REFERENCES keywords (id)\n",
        "\t\t)\n",
        "\t\"\"\")"
      ],
      "execution_count": null,
      "outputs": []
    },
    {
      "cell_type": "code",
      "metadata": {
        "id": "nMAFhtRIJSCJ"
      },
      "source": [
        "# Commit changes to the database\n",
        "connection.commit()"
      ],
      "execution_count": null,
      "outputs": []
    },
    {
      "cell_type": "markdown",
      "metadata": {
        "id": "IHJdk0ytJ1aT"
      },
      "source": [
        "## Populating the DataBase\n"
      ]
    },
    {
      "cell_type": "markdown",
      "metadata": {
        "id": "R2D0PDL7KuNr"
      },
      "source": [
        "We are going to populate the database with data from movies downloaded from a Kaggle Dataset:   \n",
        "\n",
        "In the future we will replace this with a web scraper to include new titles to our dataset."
      ]
    },
    {
      "cell_type": "markdown",
      "metadata": {
        "id": "M0ieIbmpLbH8"
      },
      "source": [
        ""
      ]
    },
    {
      "cell_type": "code",
      "metadata": {
        "id": "1CtwGFJ6J6OH"
      },
      "source": [
        "def get_poster_path(movie_id):\n",
        "\tr = requests.get(f\"{c.MOVIE_DB_URL}/movie/{movie_id}\")\n",
        "\tsoup = BeautifulSoup(r.content, features = 'html.parser')\n",
        "\tfor item in soup.findAll('meta'):\n",
        "\t\tif str(item).split()[1].endswith('.jpg\"'):\n",
        "\t\t\treturn (str(item).split()[1].strip('content=').strip('\"'))\n"
      ],
      "execution_count": 5,
      "outputs": []
    },
    {
      "cell_type": "code",
      "metadata": {
        "id": "JeeY_ufbLYID"
      },
      "source": [
        "def get_director(movie_id, credits):\n",
        "\tcrew = credits.loc[credits['id'] == int(movie_id)]['crew']\n",
        "\tcrew = literal_eval(crew.values[0])\n",
        "\tfor c in crew:\n",
        "\t\tif c['job'] == 'Director':\n",
        "\t\t\treturn c['name']\n",
        "\treturn \"No Name\""
      ],
      "execution_count": null,
      "outputs": []
    },
    {
      "cell_type": "code",
      "metadata": {
        "id": "4pOeySvfLept"
      },
      "source": [
        "def get_main_actors(movie_id, credits):\n",
        "\tcast = credits.loc[credits['id'] == int(movie_id)]['cast']\n",
        "\tcast = literal_eval(cast.values[0])\n",
        "\tactors = [c['name'] for c in cast]\n",
        "\tif len(actors) > 5:\n",
        "\t\tactors = actors[0:5]\n",
        "\treturn actors"
      ],
      "execution_count": null,
      "outputs": []
    },
    {
      "cell_type": "code",
      "metadata": {
        "id": "o1H82fXZLfnt"
      },
      "source": [
        "def get_genres(movie_id, movies):\n",
        "\tgenres = movies.loc[movies['id'] == str(movie_id)]['genres'].values[0]\n",
        "\tgenres = literal_eval(genres)\n",
        "\tgenre_list = [genre['name'] for genre in genres]\n",
        "\treturn genre_list"
      ],
      "execution_count": null,
      "outputs": []
    },
    {
      "cell_type": "code",
      "metadata": {
        "id": "bk40vwdiLiHR"
      },
      "source": [
        "def get_keywords(movie_id, keywords_df):\n",
        "\tkeywords = keywords_df.loc[keywords_df['id'] == int(movie_id)]['keywords']\n",
        "\tkeywords = literal_eval(keywords.values[0])\n",
        "\tkeyword_list = [k['name'] for k in keywords]\n",
        "\treturn keyword_list"
      ],
      "execution_count": null,
      "outputs": []
    },
    {
      "cell_type": "markdown",
      "metadata": {
        "id": "gZeStzmrLmob"
      },
      "source": [
        ""
      ]
    },
    {
      "cell_type": "code",
      "metadata": {
        "id": "4VhvOBGtLloU"
      },
      "source": [
        "connection = sqlite3.connect(c.DB_FILE)\n",
        "connection.row_factory = sqlite3.Row\n",
        "cursor = connection.cursor()"
      ],
      "execution_count": null,
      "outputs": []
    },
    {
      "cell_type": "code",
      "metadata": {
        "id": "O4PKKaM9LxJw"
      },
      "source": [
        "# Read movies from CSV file\n",
        "movies = pd.read_csv(c.DATA_PATH + 'movies_metadata.csv', low_memory = False)\n",
        "# 10% most voted movies\n",
        "most_voted = movies['vote_count'].quantile(0.9)\n",
        "most_voted_movies = movies.loc[movies['vote_count'] >= most_voted]\n",
        "\n",
        "# Read extra data (crew, cast and keywords)\n",
        "credits = pd.read_csv(c.DATA_PATH + 'credits.csv', low_memory = False)\n",
        "keywords_df = pd.read_csv(c.DATA_PATH + 'keywords.csv')"
      ],
      "execution_count": null,
      "outputs": []
    },
    {
      "cell_type": "code",
      "metadata": {
        "id": "lXNWaNaiL6iQ"
      },
      "source": [
        "for idx , movie in most_voted_movies.iterrows():\n",
        "\n",
        "\t\tmovieDB_id = movie['id']\n",
        "\t\ttitle = movie['title']\n",
        "\t\tduration = movie['runtime']\n",
        "\t\tvote_counts = movie['vote_count']\n",
        "\t\tvote_average = movie['vote_average']\n",
        "\t\trelease_date = movie['release_date']\n",
        "\t\tpopularity = movie['popularity']\n",
        "\t\tposter_path = h.get_poster_path(movieDB_id)\n",
        "\t\tdirector = h.get_director(movieDB_id, credits)\n",
        "\t\tactors = h.get_main_actors(movieDB_id, credits)\n",
        "\t\tgenres = h.get_genres(movieDB_id, most_voted_movies)\n",
        "\t\tkeywords = h.get_keywords(movieDB_id, keywords_df)\n",
        "\n",
        "\t\tprint(f\"{idx} {title}\")\n",
        "\t\ttry:\n",
        "\t\t\t# print(f\"Adding movie: {title} with ID:{movieDB_id}\")\n",
        "\t\t\tcursor.execute(\"\"\"\n",
        "\t\t\t\tINSERT INTO movies (movieDB_id, title, duration, vote_counts, vote_average, \n",
        "\t\t\t\trelease_date, poster_path, popularity, director) VALUES (?,?,?,?,?,?,?,?,?)\n",
        "\t\t\t\t\"\"\", (movieDB_id, title, duration, vote_counts, vote_average, release_date, poster_path, popularity, director))\n",
        "\n",
        "\t\texcept Exception as e:\n",
        "\t\t\t# print(f\"This movie:{title} already existed\")\n",
        "\t\t\t# print(e) \n",
        "\t\t\tpass\n",
        "\n",
        "\t\tfor actor in actors:\t\n",
        "\t\t\ttry:\n",
        "\t\t\t\t# print(f\"Adding actor: {actor}\")\n",
        "\t\t\t\tcursor.execute(\"\"\"\n",
        "\t\t\t\t\tINSERT INTO actors (name) VALUES (?)\n",
        "\t\t\t\t\t\"\"\", (actor,))\n",
        "\t\t\texcept Exception as e:\n",
        "\t\t\t\t# print(f\"This actor: {actor} already existed\")\n",
        "\t\t\t\t# print(e) \t\n",
        "\t\t\t\tpass\n",
        "\n",
        "\t\tfor genre in genres:\t\n",
        "\t\t\ttry:\n",
        "\t\t\t\t# print(f\"Adding genre: {genre}\")\n",
        "\t\t\t\tcursor.execute(\"\"\"\n",
        "\t\t\t\t\tINSERT INTO genres (name) VALUES (?)\n",
        "\t\t\t\t\t\"\"\", (genre,))\n",
        "\t\t\texcept Exception as e:\n",
        "\t\t\t\t# print(f\"This genre: {genre} already existed\")\n",
        "\t\t\t\t# print(e) \t\n",
        "\t\t\t\tpass\n",
        "\n",
        "\n",
        "\t\tfor keyword in keywords:\t\n",
        "\t\t\ttry:\n",
        "\t\t\t\t# print(f\"Adding genre: {genre}\")\n",
        "\t\t\t\tcursor.execute(\"\"\"\n",
        "\t\t\t\t\tINSERT INTO keywords (name) VALUES (?)\n",
        "\t\t\t\t\t\"\"\", (keyword,))\n",
        "\t\t\texcept Exception as e:\n",
        "\t\t\t\t# print(f\"This genre: {genre} already existed\")\n",
        "\t\t\t\t# print(e) \t\n",
        "\t\t\t\tpass\n",
        "\n",
        "\n",
        "\t\tcursor.execute(\"\"\"SELECT id FROM movies WHERE title == ?\"\"\", (title,))\n",
        "\t\tmovie_id = cursor.fetchone()[0]\n",
        "\t\tfor genre in genres:\n",
        "\t\t\tcursor.execute(\"\"\"SELECT id FROM genres WHERE name == ?\"\"\", (genre,))\n",
        "\t\t\tgenre_id = cursor.fetchone()[0]\n",
        "\n",
        "\t\t\tcursor.execute(\"\"\"\n",
        "\t\t\t\t\tINSERT INTO movie_genres (movie_id, genre_id) VALUES (?,?)\n",
        "\t\t\t\t\t\"\"\", (movie_id,genre_id))\n",
        "\n",
        "\t\tfor actor in actors:\n",
        "\t\t\tcursor.execute(\"\"\"SELECT id FROM actors WHERE name == ?\"\"\", (actor,))\n",
        "\t\t\tactor_id = cursor.fetchone()[0]\n",
        "\t\t\tcursor.execute(\"\"\"\n",
        "\t\t\t\t\tINSERT INTO movie_actors (movie_id, actor_id) VALUES (?,?)\n",
        "\t\t\t\t\t\"\"\", (movie_id,actor_id))\n",
        "\n",
        "\t\tfor keyword in keywords:\n",
        "\t\t\tcursor.execute(\"\"\"SELECT id FROM keywords WHERE name == ?\"\"\", (keyword,))\n",
        "\t\t\tkeyword_id = cursor.fetchone()[0]\n",
        "\t\t\tcursor.execute(\"\"\"\n",
        "\t\t\t\t\tINSERT INTO movie_keywords (movie_id, keyword_id) VALUES (?,?)\n",
        "\t\t\t\t\t\"\"\", (movie_id,keyword_id))\t\n",
        "\n",
        "connection.commit()"
      ],
      "execution_count": null,
      "outputs": []
    },
    {
      "cell_type": "markdown",
      "metadata": {
        "id": "Ysd_11mkNABw"
      },
      "source": [
        "## Add extra fields and values"
      ]
    },
    {
      "cell_type": "code",
      "metadata": {
        "id": "rpISoMmnNDkD"
      },
      "source": [
        "# Establish connection with our database\n",
        "connection = sqlite3.connect(c.DB_FILE)\n",
        "connection.row_factory = sqlite3.Row\n",
        "cursor = connection.cursor()"
      ],
      "execution_count": null,
      "outputs": []
    },
    {
      "cell_type": "code",
      "metadata": {
        "id": "2Pbxa41hNQ1y"
      },
      "source": [
        "def weighted_rating(vote_counts, vote_average):\n",
        "\t\"\"\" COMPUTE WEIGHTED AVERAGE USING THE FORMULA:\n",
        "\t\t(v/(v+m) * R) + (m/(v+m) * C)\n",
        "\t\tv is the number of votes for the movie\n",
        "\t\tm is the minimum votes required to be listed in the chart\n",
        "\t\tR is the average rating of the movie\n",
        "\t\tC is the mean vote across the whole report\n",
        "\t\"\"\"\n",
        "\tv = vote_counts\n",
        "\tm = np.min(v)\n",
        "\tR = vote_average\n",
        "\tC = np.mean(R)\n",
        "\tf = 5 # Punishment for low votes\n",
        "\n",
        "\treturn ((v/(v+f*m) * R)\n",
        "\t     +  (f*m/(v+f*m) * C))"
      ],
      "execution_count": null,
      "outputs": []
    },
    {
      "cell_type": "code",
      "metadata": {
        "id": "s7ZJHxwoNQ_H"
      },
      "source": [
        "# Recompute the Score based on a weighted metric\n",
        "cursor.execute(\"\"\"SELECT id, vote_counts, vote_average FROM movies\"\"\")\n",
        "movies = cursor.fetchall()\n",
        "\n",
        "ids = [movie['id'] for movie in movies]\n",
        "vote_counts = [int(float(movie['vote_counts'])) for movie in movies]\n",
        "vote_average = [float(movie['vote_average']) for movie in movies]\n",
        "\n",
        "scores = weighted_rating(vote_counts, vote_average)"
      ],
      "execution_count": null,
      "outputs": []
    },
    {
      "cell_type": "code",
      "metadata": {
        "id": "KJG3KAYGNGdm"
      },
      "source": [
        "cursor.execute(\"\"\"ALTER TABLE movies ADD COLUMN scores\"\"\")"
      ],
      "execution_count": null,
      "outputs": []
    },
    {
      "cell_type": "code",
      "metadata": {
        "id": "-7CQCmRtNGnN"
      },
      "source": [
        "for idx, score in zip(ids,scores):\n",
        "\tcursor.execute(\"\"\"UPDATE movies SET scores = ? WHERE id = ?\"\"\", (round(score,2),idx))\n",
        "\n",
        "connection.commit()"
      ],
      "execution_count": null,
      "outputs": []
    },
    {
      "cell_type": "code",
      "metadata": {
        "id": "mE2BMWKqJ_3l"
      },
      "source": [
        ""
      ],
      "execution_count": null,
      "outputs": []
    }
  ]
}